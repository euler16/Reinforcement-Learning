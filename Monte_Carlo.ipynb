{
 "cells": [
  {
   "cell_type": "code",
   "execution_count": 4,
   "metadata": {},
   "outputs": [],
   "source": [
    "import numpy as np\n",
    "import matplotlib\n",
    "import scipy\n",
    "import gym\n",
    "\n",
    "%matplotlib inline"
   ]
  },
  {
   "cell_type": "code",
   "execution_count": 9,
   "metadata": {},
   "outputs": [
    {
     "name": "stdout",
     "output_type": "stream",
     "text": [
      "Discrete(2)\n",
      "Tuple(Discrete(32), Discrete(11), Discrete(2))\n",
      "0\n",
      "((21, 10, True), 1.0, True, {})\n",
      "0\n",
      "((21, 10, True), 1.0, True, {})\n",
      "1\n",
      "((12, 10, False), 0, False, {})\n",
      "0\n",
      "((12, 10, False), -1.0, True, {})\n",
      "0\n",
      "((12, 10, False), -1.0, True, {})\n",
      "0\n",
      "((12, 10, False), -1.0, True, {})\n",
      "0\n",
      "((12, 10, False), -1.0, True, {})\n",
      "0\n",
      "((12, 10, False), -1.0, True, {})\n",
      "1\n",
      "((13, 10, False), 0, False, {})\n",
      "0\n",
      "((13, 10, False), -1.0, True, {})\n"
     ]
    }
   ],
   "source": [
    "# initializing and testing gym environment\n",
    "env = gym.make('Blackjack-v0')\n",
    "print(env.action_space)\n",
    "print(env.observation_space)\n",
    "\n",
    "env.reset()\n",
    "for _ in range(10):\n",
    "    # env.render()\n",
    "    action = env.action_space.sample()\n",
    "    print(action)\n",
    "    state = env.step(action)\n",
    "    print(state)\n",
    "    \n",
    "# action space 0 => stick\n",
    "# action space 1 => hits"
   ]
  },
  {
   "cell_type": "code",
   "execution_count": null,
   "metadata": {},
   "outputs": [],
   "source": []
  }
 ],
 "metadata": {
  "kernelspec": {
   "display_name": "Python 3",
   "language": "python",
   "name": "python3"
  },
  "language_info": {
   "codemirror_mode": {
    "name": "ipython",
    "version": 3
   },
   "file_extension": ".py",
   "mimetype": "text/x-python",
   "name": "python",
   "nbconvert_exporter": "python",
   "pygments_lexer": "ipython3",
   "version": "3.5.2"
  }
 },
 "nbformat": 4,
 "nbformat_minor": 2
}
