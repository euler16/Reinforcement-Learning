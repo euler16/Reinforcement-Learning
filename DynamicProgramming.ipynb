{
 "cells": [
  {
   "cell_type": "code",
   "execution_count": 5,
   "metadata": {},
   "outputs": [],
   "source": [
    "import numpy as np\n",
    "import scipy # FrozenLake needs it apparently\n",
    "import gym"
   ]
  },
  {
   "cell_type": "code",
   "execution_count": 15,
   "metadata": {},
   "outputs": [
    {
     "name": "stdout",
     "output_type": "stream",
     "text": [
      "Discrete(4)\n",
      "Discrete(16)\n",
      "\n",
      "\u001b[41mS\u001b[0mFFF\n",
      "FHFH\n",
      "FFFH\n",
      "HFFG\n",
      "(4, 0.0, False, {'prob': 0.3333333333333333})\n",
      "  (Left)\n",
      "SFFF\n",
      "\u001b[41mF\u001b[0mHFH\n",
      "FFFH\n",
      "HFFG\n",
      "(8, 0.0, False, {'prob': 0.3333333333333333})\n",
      "  (Left)\n",
      "SFFF\n",
      "FHFH\n",
      "\u001b[41mF\u001b[0mFFH\n",
      "HFFG\n",
      "(9, 0.0, False, {'prob': 0.3333333333333333})\n",
      "  (Right)\n",
      "SFFF\n",
      "FHFH\n",
      "F\u001b[41mF\u001b[0mFH\n",
      "HFFG\n",
      "(10, 0.0, False, {'prob': 0.3333333333333333})\n"
     ]
    }
   ],
   "source": [
    "env =  gym.make('FrozenLake-v0')\n",
    "env.reset()\n",
    "print(env.action_space)\n",
    "print(env.observation_space)\n",
    "for _ in range(4):\n",
    "    env.render()\n",
    "    state = env.step(env.action_space.sample())\n",
    "    print(state)\n"
   ]
  },
  {
   "cell_type": "markdown",
   "metadata": {},
   "source": [
    "# Policy Evaluation\n",
    "Implementing policy evaluation in Numpy\n",
    "\\begin{equation}\n",
    "v_{\\pi}(s) = \\sum_{a}\\pi(a|s) \\sum_{s\\prime}\\bigg[r(s,a,s\\prime) + \\gamma v_{\\pi}(s\\prime) \\bigg]\n",
    "\\end{equation}\n",
    "\n",
    "## Algorithm\n",
    "1. Input $\\pi$, the policy to be evaluated\n",
    "2. Initialize an array $v(s) = 0$ , for all $s\\in S^{+}$\n",
    "3. Repeat\n",
    "4. &nbsp;&nbsp;    Initialize $\\Delta \\gets 0$ \n",
    "5. &nbsp;&nbsp;    For each $s \\in S$ do:\n",
    "6. &nbsp;&nbsp;&nbsp;&nbsp;$temp \\gets v(s)$\n",
    "7. &nbsp;&nbsp;&nbsp;&nbsp;$v(s) \\gets \\sum_{a}\\pi(a|s) \\sum_{s\\prime}\\bigg[r(s,a,s\\prime) + \\gamma v(s\\prime) \\bigg]$\n",
    "8. &nbsp;&nbsp;$\\Delta \\gets max(\\Delta,|temp - v(s)|)$\n",
    "9. until $\\Delta < \\theta$ (a small positive number)\n",
    "10.Output $v \\approx v_{\\pi}$"
   ]
  },
  {
   "cell_type": "code",
   "execution_count": null,
   "metadata": {},
   "outputs": [],
   "source": []
  }
 ],
 "metadata": {
  "kernelspec": {
   "display_name": "Python 3",
   "language": "python",
   "name": "python3"
  },
  "language_info": {
   "codemirror_mode": {
    "name": "ipython",
    "version": 3
   },
   "file_extension": ".py",
   "mimetype": "text/x-python",
   "name": "python",
   "nbconvert_exporter": "python",
   "pygments_lexer": "ipython3",
   "version": "3.5.2"
  }
 },
 "nbformat": 4,
 "nbformat_minor": 2
}
